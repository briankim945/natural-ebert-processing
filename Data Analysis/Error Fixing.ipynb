{
 "cells": [
  {
   "cell_type": "code",
   "execution_count": 1,
   "id": "6b57dea8",
   "metadata": {},
   "outputs": [],
   "source": [
    "import pickle"
   ]
  },
  {
   "cell_type": "code",
   "execution_count": 2,
   "id": "7a6839bb",
   "metadata": {},
   "outputs": [],
   "source": [
    "with open('../data/raw_reviews.pkl', 'rb') as f:\n",
    "    raw_reviews = pickle.load(f)"
   ]
  },
  {
   "cell_type": "code",
   "execution_count": 3,
   "id": "ad51014b",
   "metadata": {},
   "outputs": [],
   "source": [
    "errors = {k: raw_reviews[k] for k in raw_reviews if len(raw_reviews[k]) != 5}"
   ]
  },
  {
   "cell_type": "code",
   "execution_count": 4,
   "id": "a7d4f978",
   "metadata": {},
   "outputs": [
    {
     "data": {
      "text/plain": [
       "1"
      ]
     },
     "execution_count": 4,
     "metadata": {},
     "output_type": "execute_result"
    }
   ],
   "source": [
    "len(errors)"
   ]
  },
  {
   "cell_type": "code",
   "execution_count": 5,
   "id": "bc409cfd",
   "metadata": {},
   "outputs": [
    {
     "data": {
      "text/plain": [
       "{'/reviews/copperhead-2013': ('https://www.rogerebert.com/reviews/copperhead-2013',\n",
       "  AssertionError())}"
      ]
     },
     "execution_count": 5,
     "metadata": {},
     "output_type": "execute_result"
    }
   ],
   "source": [
    "errors"
   ]
  },
  {
   "cell_type": "code",
   "execution_count": 6,
   "id": "e72e82f8",
   "metadata": {},
   "outputs": [
    {
     "data": {
      "text/plain": [
       "('One Minute Reviews',\n",
       " 'Roger Ebert',\n",
       " 'October 06, 2004',\n",
       " 0.0,\n",
       " ['\"The Incredibles\" ***1/2 The new Pixar animated comedy combines breakneck comic action with some sly satire about conformity in modern America. \"They keep finding new ways, to celebrate mediocrity,\" signs Mr. Incredible (voice by Craig T. Nelson). He\\'s a superhero forced into the Superhero Relocation Program after being grounded by lawsuits. His wife Elastigirl (Holly Hunter) and superkids hide their talents in the suburbs until they\\'re needed to meet a threat by Syndrome (Jason Lee), who wants to conquer the world with giant robots. Also involved: Mr. Incredible\\'s pal Frezone (Samuel L. Jackson). Not quite as magical as Pixar\\'s previous film, \"Nemo,\" but how many films are? Rating: Three and a half stars.(PG, 115 minutes)',\n",
       "  '\"Alfie\" *** Jude Law\\'s Alfie is smoother and better groomed than the famous 1966 character played by Michael Caine, but he holds the same conviction that he can get away with an indefinite number of simultaneous affairs. He gets his comeuppance from Marisa Tomei, as the mother of a small boy; Alfie loves both of them, something he discovers rather too late. The other women in his life include Susan Sarandon as a sexually demanding businesswoman, Sienna Miller as a complaisant model, and Nia Long as the girl of his best friend (Omar Epps). Funny at times, heartless at times, finally sad and sweet. Rating: Three stars. (R, 106 minutes)',\n",
       "  '\"Around the Bend\" **1/2 As patriarch Michael Caine lies dying, his long-lost son (Christopher Walken) reappears after 30 years, joining his grandson (Josh Lucas) and great-grandson (Johan Bobo) at his deathbed. The old man leaves a strange legacy: He is to be cremated, and instructs his three survivors to undertake an odyssey across the Southwest, stopping at KFC restaurants and eating fried chicken before scattering his ashes. Walken does a good job with his role, but the movie pushes a little too hard in the Colorful Character Department. Rating: Two and a half stars. (R, 85 minutes)',\n",
       "  '\"Bright Young Things\" ***1/2 A comedy inspired by Evelyn Waugh\\'s famous novel \"Vile Bodies,\" about London party animals between the wars. The most important requirement for Bright Young Thing membership is never to be boring. Alcoholism is the recommended life style. Stephen Campbell Moore stars as Adam, an impoverished writer who loves the fragrant Nina (Emily Mortimer), who would marry him if he had more money. James McAvoy plays Lord Simon, the poor but titled gossip columnist who works for the great vulgarian publisher Lord Monomark (Dan Aykroyd), and Fenella Woolgar is brilliant as Agatha, who awakens one morning at the last address in London one would expect. With Peter O\\'Toole, Jim Broadbent, Stockard Channing and Simon Callow; directed with an instinctive feel for the material by Stephen Fry. Rating: Three and a half stars. (R, 106 minutes).',\n",
       "  '\"Cellular\" ***1/2 Kim Basinger is kidnapped and held in an attic; her child and husband are threatened. The phone in the attic is shattered, but as a science teacher she knows enough to piece it together. She dials at random, and gets a 20-something kid (Chris Evans) who at first thinks it\\'s a gag. He eventually races all over Los Angeles to try to save her and her family. Strong performances by Jason Statham as a villain and William H. Macy as a quietly professional. From the same writer as \"Phone Booth.\" Rating: Three and a half stars. (PG-13, 94 minutes).',\n",
       "  '\"Criminal\" ** A veteran con man (John C. Reilly) takes a kid (Diego Luna) under his arm, promising to train him as a partner. Then the con man\\'s sister (Maggie Gyllenhaal) puts them in touch with a forger who has a counterfeit bank note he\\'s trying to sell to a rich collector (Peter Mullen). At least that\\'s what seems to be happening, but of course there is a con within the con. A faithful remake of \"Nine Queens,\" an Argentinean film I saw in 2002; because I knew what was really happening and why, the film didn\\'t work for me. If the plot is new to you, you\\'ll probably like the remake about as much as I liked the original -- three stars\\' worth. But for me, alas: Two and a half stars. (R, 87 minutes).',\n",
       "  '\"A Dirty Shame\" * The new John Waters movie stars Tracey Ullman as a Baltimore store owner who becomes a sex addict after suffering a concussion. That brings her into the orbit of Johnny Knoxville, as a proponent of sex addiction, who has gathered a following of weirdos. The movie catalogues fetishes you might be happier not knowing about, to little comic effect. With Selma Blair, Patricia Hearst and Mink Stole. Rating: One star. (NC-17, 89 minutes).',\n",
       "  '\"Being Julia\" **1/2 Annette Bening has verve and energy, more than the material deserves, as a 45-ish actress threatened by a younger rival and fighting back with the tools of the theater. Jeremy Irons is her husband, Bruce Greenwood her platonic lover, Shaun Evans the young American she unconvincingly sleeps with, Lucy Punch her younger rival. Based on Maugham\\'s novel \"Theater,\" written in 1937 and not very original even then. Directed by Istvan Szabo (Mephisto\"), written by Ronald Harwood (\"The Dresser\"), neither in top form. But Bening does charm. Rating: Two and a half stars. (R, 105 minutes)',\n",
       "  '\"Birth\" ***1/2 A 10-year-old boy insists he is the reincarnation of Nicole Kidman’s dead husband. He seems to know things only the husband would know. This could be the starting-point for a lurid melodrama, but director Jonathan Glazer is more interested in a movie about how intelligent, skeptical adults would deal with the implications of such a situation. Lauren Bacall plays Kidman’s mother, Danny Huston is her fiancée, Anne Heche is her best friend, and Cameron Bright has a scary self-possession as the little boy who insists on being listened to. The movie is dark, brooding, and leaves us pondering its paradoxes. Rating: Three and a half stars. (R, 100 minutes)',\n",
       "  '\"Enduring Love\" *** A hot air balloon touches down in a field. A man gets out, leaving his small son in the basket. The balloon begins to rise again. The father holds onto a drag line. Other men who are nearby also grab ropes, but the balloon continues to rise. One by one they let go and fall safely back to earth – except for one who hands on to long, and falls to his death. Daniel Craig plays a man who let go in time but is haunted by guilt. Rhys Ifans plays another men who let go, and who becomes fixated on the Craig character with a mixture of religious ecstasy and erotomania. A chilling thriller about ethics and madness. Rating: Three stars. (R, 97 minutes)',\n",
       "  '\"The Final Cut\" ** In an unspecified time that looks like the present, people can be implanted with the “Zoe chip,” which records everything they see and hear. After their deaths, a Cutter edits their lifetime of memories into a two-hour video “Rememory,” for friends and family. Of course Zoe sees everything: Every sin, every perversion, every lie. Robin Williams plays a Cutter who is famous for handling delicate rememories. \"If you can\\'t bear to look at it, he will,\" his colleagues say of him. And, “He\\'s first on the list for Cutting scumbags and lowlifes.\" Now he faces the challenge of Rememorying a millionaire who may have abused his own daughter. With Jim Caviezel and Mira Sorvino. Rating: Two stars. (PG-13, 105 minutes)',\n",
       "  '\"First Daughter\" ** Katie Holmes stars as the daughter of a U. S. President, who goes off to college and doesn\\'t realize she\\'s living in the plot of \"Chasing Liberty,\" the Mandy Moore film from earlier in 2004. She wants to be a normal kid, but the movie seems to have formed its ideas of normality in 1948, and it wheezes and labors to arrive at obvious points in a predictable plot before supplying a lugubrious and unsatisfying ending. Rating: Two stars. (PG, 104 minutes).',\n",
       "  '\"The Five Obstructions\" *** The Danish director Lars von Trier, guru of the Dogma movement, challenges his mentor Jorgen Leth to remake Leth\\'s 1967 short film \"The Perfect Human\" five times despite five obstructions, which von Trier will dictate. (No. 1: Shoot it in Cuba, with no shot more than half a second in length -- and bring me back some cigars.) The older man has a cool, classical style; von Trier is known for stylistic hyperintensity, and the contest is infected with a spirit of mischievous play. Rating: Three stars. (unrated, 90 minutes).',\n",
       "  '\"The Forgotten\" ** Julianne Moore plays a mother who mourns her dead son, only to be told by everybody she trusts that she never had a son, and only imagines she did. How can this be? I can think of several possibilities, all of them more intriguing than the preposterous plot of this movie, which generates considerable sympathy through Moore\\'s performance and then dissipates it in ridiculous developments, obvious paradoxes and a peculiarly unsatisfying third act. Rating: Two stars. (PG-13, 89 minutes).',\n",
       "  '\"Friday Night Lights\" ***1/2 Billy Bob Thornton in a great performance as the real-life Coach Gary Gaines, who leads his 1988 Odessa, Texas high school football team to the state finals. The town is obsessed by football, and boosters give Gaines advice that is sometimes a veiled threat. Derek Luke plays a star player who is injured; country singer Tim McGraw is powerful as an alcoholic bully of a father who still lives on his high school dreams of glory, and takes it out on his son. Not a typical high school sports movie, but wiser, deeper, more thoughtful. Rating: Three and a half stars. (PG-13, 115 minutes).',\n",
       "  '\"Going Upriver: The Long War of John Kerry\" *** A calm, matter-of-fact documentary that describes Kerry\\'s war service and his in the Vietnam Veterans for Peace. Not in-your-face, but a rational response to the TV smear campaign. Reveals that The most remarkable connection it makes is that John O\\'Neill, mastermind of the Swift Boat Veterans for Truth, was originally recruited by the dirty tricksters in the Nixon White House to play precisely the same role against young John Kerry. Directed by George Butler, who first brought Arnold Schwarzenegger to general attention with the doc \"Pumping Iron.\" Rating: Three stars. (unrated, 89 minutes).',\n",
       "  '\"The Grudge\" * Set in Japan, but with mostly American or English-speaking characters, whom unwisely go one after another into a haunted house where their body parts are subjected to great inconvenience. Fragmented, flashback-laden, murky and disjointed; some individual scenes work, but the movie lacks a central core and the characters seem adrift in a series of assorted calamities. Rating: One star. (PG-13, 96 minutes).',\n",
       "  '\"Head in the Clouds\" ***  Charlize Theron follows the great \"Monster\" with a war-love-spy melodrama that\\'s overwrought but fun. An Oxford undergraduate named Guy (Stuart Townsend) becomes fascinated by her legendary and outrageous behavior, and their lives cross until a fateful meeting in wartime Paris, where he sees that she has become the mistress of a Nazi. Penelope Cruz plays her roommate and sometime lover, in a movie that plays like a checklist of all the adventures that could possibly befall the heroine. Rating: Three stars. (R, 132 minutes).',\n",
       "  '\"Hijacking Catastrophe: 9/11, Fear and the Selling of American Empire\" *** The most outspoken and yet the calmest of the new documentaries opposing the Bush presidency. It charges that America is in the hands of radicals at the right-wing extreme of the Republican party, who planned an invasion of Iraq long before 9/11. Well-known administration critics like Noam Chomsky and Norman Mailer are joined by more centrist speakers, and retired military strategists, who say 9/11 was seized upon as a cover for the neocon agenda. Rating: Three stars. (unrated, 68 minutes)',\n",
       "  '\"I Heart Huckabees\" ** Jason Schwartzman plays an environmentalist who hires two Existential Detectives (Dustin Hoffman and Lily Tomlin) to follow him around and explain the curious coincidences in his life. Jude law and Naomi Watts are spokespeople for the Huckabees chain store, which hires Schwartzman as a cover for their own plans to desecrate some swamplands. Mark Wahlberg plays an energy-conscious fireman who rides his bike to fires, and calls in another Existential Detective (Isabelle Huppert) from France. This is the kind of movie that would inspire a Charlie Kaufman screenplay about how it couldn\\'t be made. Rating: Two stars. (R, 105 minutes).',\n",
       "  '\"Incident at Loch Ness\" *** The colorful German director Werner Herzog signs on to make a documentary about the Loch Ness Monster, while the cinematographer John Bailey makes a documentary about Herzog. Everyone ends up on a boat on Loch Ness, including the goofy producer (Zak Penn), Playboy model Kitana Baker, who the producer hires as his \"sonar engineer\"), boat captain David A. Davidson, and others. Herzog grows enraged by the producer\\'s lies, refusing to work with a fake monster, while meanwhile…well, the mystery is, how much of the film is what it seems to be? And, for that matter, what does it seem to be? A entertaining exercise in forensic viewing. Rating: Three stars. (PG-13, 94 minutes).',\n",
       "  '\"Ladder 49\" ***1/2 Uncommonly effective film about firemen, what they do, and why they do it. Joaquin Phoenix stars as a young firemen who we follow from his first day as a rookie; John Travolta is his captain. The film has all the action you\\'d expect, including thrilling rescues in burning buildings, but it\\'s a lot more than that: It\\'s about the human dimension of the work, and how firemen are motivated by camaraderie. Surprisingly emotionally powerful. Rating: Three and a half stars. (PG-13, 120 minutes).',\n",
       "  '\"The Last Shot\" *** Alec Baldwin plays an FBI agent who poses as a producer and makes Matthew Broderick\\'s impossible screenplay in a sting operation to snare mobsters in the movie business. Preposterous, but of course based on a true story. The laughs are not nonstop but when they come they\\'re big, especially during Joan Cusack\\'s unbilled camera as a production executive. With Toni Collette, Ray Liotta, Calista Flockheart and Tony Shaloub. Rating: Three stars. (R. 93 minutes).',\n",
       "  '\"The Manson Family\" *** Cruel and gory, it depicts the cult that formed around Charles Manson, showing its murders with pitiless brutality and redundant gore. It filled me with disgust and dismay, but was intended to, and in that sense is a success. Paradoxically, it exhibits sympathy for the victims by showing their deaths in such horrifying detail. In its raw blatant crudeness, it finds a style suitable to the material. Directed by Jim Van Bebber, who has been working on it for years; I recognize its achievement but would never want to see it again. I am rating it at three stars, because it is remarkable enough it should not be dismissed. That doesn\\'t mean I think you should see it. Rating: Three stars. (unrated, for adults, 95 minutes).',\n",
       "  '\"Mr. 3000\" *** Bernie Mac stars as the loudmouthed legend of the Milwaukee Brewers, who quits with 3,000 hits and then, at 47, discovers he actually only has 2,997. He comes out of retirement to try to get three more hits, in a comedy that has fun with his swollen ego and bad manners. Angela Bassett stars as his former girlfriend, now an ESPN reporter, and Paul Sorvino is the manager who never speaks. The ending is surprising in the way it depends on the implacable logic of baseball strategy. Rating: Three stars. (PG-13, 104 minutes).',\n",
       "  '\"The Motorcycle Diaries\" **1/2 Inspired by an 8,000-mile motorcycle trip around South America, taken by Che Guevera (Gael Garcia Bernal) and his friend Alberto Granado (Rodrigo De la Serna). They\\'re middle-class students from Argentina, but their experiences change them, and Che, of course, joins with Castro and becomes a revolutionary. If he had not, there wouldn\\'t be much of a movie, because their journey, while rich in scenery, is thin in conversation and chemistry and locked into the pious formula where they see poverty and are forever changed. Directed by Walter Salles (\"Central Station\\'). Rating: Two and a half stars. (R, 128 minutes).',\n",
       "  '\"Primer\" ***1/2 Two techhead garage inventors create a machine that to their amazement seems to incorporate time travel. They experiment with it, gingerly at first, in a devilishly labyrinthine story where time coils back upon them, and they upon time, in a series of increasingly worrisome paradoxes. The dialog is shop talk and tech jargon, half-understood but all the more effective because is evokes the rarefied atmosphere in which very smart people find themselves cleverly, even brilliantly, doing very dumb things. Starring Shane Carruth--who also directed, wrote, produced, edited, and scored the music. Winner, best drama, Sundance 2004. Rating: Three and a half stars.\\r(PG-13, 78 minutes).',\n",
       "  '\"Raise Your Voice\" * Hilary Duff is described by another character as \"like some kind of retro Brady Buncher,\" and that\\'s so true it hurts, in this dumb formula movie about a music student who suffers a tragedy, and wants to go to music camp to begin rebuilding her life, and has a dad (Dabvid Keith) who doesn\\'t want her to go, so she and her mom (Rita Wilson) and her Aunt Nina (Rebecca De Mornay) play a trick on dad, and she meets a nice guy at camp and is inspired by a great teacher and smiles and smiles and smiles. Rating: One star. (Teen comedy, PG).',\n",
       "  '\"Ray\" **** Jamie Foxx plays Ray Charles in a great exuberant performance. He doesn\\'t do the singing -- that\\'s all Ray Charles on the sound track -- but what he gets just right is the physical Ray Charles, interpreting his body language as a kind of choreography, in which he was conducting his music with himself, instead of with a baton. Four key supporting performances are by Kerry Washington as his wife, newcomer Sharon Warren as his mother, and Aunjanue Ellis and Regina King as his lovers. Wall to wall music, and attention to Charles\\' importance as a father of soul, a pioneer into country music, and the first black musician to defy the segregated concerts of the south. Directed by Taylor Hackford, who brings understanding to Charles the performer and the man. Rating: Four stars. (PG-13, 152 minutes)',\n",
       "  '\"Resident Evil: Apocalypse\" 1/2* The evil Umbrella Corp., having learned nothing from the earlier movie, reopens The Hive and the deadly T-virus escapes again, turning just about everyone in Raccoon City into a zombie. The only good thing about that happening to you would be that then you might like this movie. Rating: One-half star. (R).',\n",
       "  '\"Rick\" *** Bill Pullman, usually likeable in the movies, plays a venomous character of true hatefulness, a cruel SOB whose corporate job allows him to humiliate his underlings while groveling to his much younger boss. With Dylan Baker as an executive-killer for hire, and Sandra Oh as an insulted job seeker who in a great scene puhs a curse on Pullman that seems to stick. The characters are rotten to the core and right down to the end, but the movie has a bizarre fascination; it goes for broke. Three stars. (R, 100 minutes).',\n",
       "  '\"Saw\" ** Two men find themselves chained to opposite walls in a locked toilet also containing a corpse, a tape recorder, a gun and a corpse. It\\'s another of those gruesome thrillers in which the killer has spared no effort to fabricate an elaborate plot for the benefit, really, of the screenplay more than for himself. Horrible things happen, fearful paradoxes are explored, and although it\\'s well-acted (especially by Cary Elwes and Leigh Whannell as the two men) and well made by director James Wan, it\\'s a machine for manufacturing suspense and has no interior life. Rating: Two stars. (R, 100 minutes)',\n",
       "  '\"Shall We Dance?\" *** Richard Gere is a Chicago lawyer who sees an alluring figure standing in the window of a dance studio and, on an impulse, signs up for ballroom lessons. The mystery woman (Jennifer Lopez) isn’t interested in romance, or at least that’s what she says, but Gene gets caught up in the excitement of a dance competition. With Susan Sarandon as his suspicious wife and Stanley Tucci as the quiet colleague who turns wild on the dance floor. Remake of the 1997 Japanese hit. Rating: Three stars. (PG-13, 106 minutes)',\n",
       "  '\"Shark Tale\" ** A parody inspires by \"The Godfather,\" and starring Robert De Niro as Don Lino, boss of the coral reef. Will Smith voices Oscar, who works at the Whale Wash, a mob-connected business owned by a puffer fish (Martin Scorsese). When he accidentially becomes a hero, he has to choose between a faithful girlfriend (voice by Renee Zellweger) and a vamp (Angelina Jolie). Too much dialog, too much about the mob, not enough for younger viewers to care about or identify with. Likely to appeal to movie buffs more than typical family audiences. Rating: Two stars. (PG, 101 minutes).',\n",
       "  '\"Shaun of the Dead\" *** Zombies invade London, and the hero is too hung over to notice. Simon Pegg stars as Shaun, a slacker who is in love with Liz (Kate Ashfield) but is happiest when he\\'s down at the pub with his layabout friend Ed (Nick Frost). When the Undead begin to walk the streets, of course Shaun leads Liz, Ed, his parents and Liz\\'s friends to a place of safety: The pub. One malcontent grumbles: \"Do you think his master plan is going to amount to anything more than sitting and eating peanuts in the dark?\" Works like a sitcom interrupted by attacks of the Undead. Rating: Three stars. (R, 99 minutes).',\n",
       "  '\"Sideways\" **** A wine-soaked English teacher named Miles (Paul Giamatti) will be the best man in a week when his friend Jack (Thomas Haden Church) gets married. He proposes a week-long bachelor party spend touring California’s wine country. They meet two women: Maya (Virginia Madsen) and Stephanie (Sandra Oh), with romantic, funny and surprisingly moving results, in a lovely movie that’s one of the best of the year. The director is Alexander Payne (“Election,” “About Schmidt”), who has found the right actors for his flawed but lovable men, and the right actresses for the women who are really a lot nicer to them than they deserve -- the engaged one in particular. Rating: Four stars. (R, 124 minutes).',\n",
       "  '\"Silver City\" ***1/2 Political drama and satire from John Sayles, starring Chris Cooper as a Colorado gubernatorial candidate with unmistakable similarities to George W. Bush. The candidate poses in front of unspoiled nature in commercials, while privatively acting as the creature of the despoilers. Politics are intercut with a murder mystery, in a movie that doesn\\'t neatly apportion good and evil, but finds everyone tarnished, some a little less so than others. With Danny Huston, Mario Bello, Thora Birch, Richard Dreyfuss, and an electric performance by Daryl Hannah as the candidate\\'s unconventional sister. Rating: Three and a half stars. (R, 129 minutes).',\n",
       "  '\"Sky Captain and the World of Tomorrow\" **** In a fantasy version of the 1930s, an evil and mysterious scientist unleashes giant mechanical men against Manhattan, and the freelance hero Sky Captain flies to the rescue. Jude Law stars as the captain, and Gwyneth Paltrow is the scoop-crazy newswoman who comes along for the ride. Most of the images combine the actors with computer-generated effects, creating a dreamy half-reality like old paperback covers. Even more fun than it sounds like. Rating: Four stars. (PG, 107 minutes).',\n",
       "  '\"Stage Beauty\" *** Charles II is restored to the throne, ending years of Puritan dreariness, and decrees that henceforth women will play women\\'s roles on the stage. That puts the famous female impersonator Ned Kynaston (Billy Crudup) out of work, while his dresser (Claire Danes) becomes a star. But she loves him, despite his confusion about his real sexual identity, and their lovemaking takes on the urgency of a first driving lesson. Walk-ons by Nell Gwyn and Samuel Pepys, in a film not quite as charming as \"Shakespeare in Love,\" but with similar qualities. Rating: Three stars. (R, 110 minutes).',\n",
       "  '\"Tarnation\" **** Jonathan Caouette’s documentary uses the materials of his lifetime (home movies, answering machine messages, photos, new video footage) to tell the story of his mother, a beautiful child model whose life was destroyed by 200 shock treatments. As her son, he grew up in horrible circumstances: Abused in foster homes, he saw his mother raped, and essentially has to reinvent his own personality to survive. We see early movies in which he does monologues as a sort of counter-myth to his own life; growing up gay, he finds some stability in his 20s, and tries to care for his mother, in a documentary of uncommon power, anger, sorrow and poetry. Rating: Four stars. (unrated, 88 minutes)',\n",
       "  '\"Taxi\" * The extravagant talent of Queen Latifah is tamed in a lame-brained action comedy that pairs her with Jimmy Fallon, as an incompetent cop. She drives a customized Yellow Cab that must have cost $500,000 (all ex-bike messengers have that kind of money), and he commandeers her cab so they can chase some bank robbers, who are Portuguese-speaking supermodels, but luckily Latifah learned to speak Portuguese while working as a delivery girl for a Portuguese carry-out joint Uh, huh. Rating: One star. (PG-13, 97 minutes).',\n",
       "  '\"Team America: World Police\" * Trey Parker and Matt Stone (of “South Park”) are equal opportunity offenders, sneering at all sides in the terrorism crisis in a puppet show rich in immature vulgarity. Team America, fighting terrorism, blows up the Eiffel\\xa0Tower and the Pyramids, while North Korea threatens to destroy the world and American fighters get sidetracked by oral sex. Neither for nor against the war on terrorism, just dedicated to ridiculing both those who wage it and those who oppose it. The movie’s content isn’t as offensive as its nihilism. Rating: One star. (R, 98 minutes)',\n",
       "  '\"This Girl\\'s Life\" *** A sensational debut performance by Juliette Marquis, playing a porn star named Moon who defends her life style while at the same time coping with a father with Parkinson\\'s (James Woods), and a possible boyfriend (Kip Pardue) who isn\\'t very happy about her occupation. Startling in its frankness, as Moon addresses the camera directly, telling us how she feels and why. The ending feels arbitrary, but there are many moments of truth and feeling, and Marquis is a real find. Directed by Ash (\"Bang\"). Rating: Three stars. (R, 101 minutes).',\n",
       "  '\"Undertow\" **** David Gordon Green is still only 29, and yet his first three films have established him as an American master. In \"Undertow,\" set in one of his Southern landscapes of rural decay and urban desolation, two brothers (Jamie Bell and Devon Alan) are restive under the strict rule of their father (Dermot Mulroney), and at first are pleased when their uncle Deel (Josh Lucas) arrives, fresh from prison. But he harbors resentments against their father, for stealing, he says, both his girl and his share of the family treasure. The movie exists somewhere between thriller and fable, with a sense of gathering fate and a poetic use of the landscape as a setting for unease. Rating: Four stars. (R, 107 minutes).',\n",
       "  '\"Vera Drake\" **** Imelda Staunton gives a heartbreakingly good performance as a good-hearted working women in London, circa 1950, who cares for her family, visits shut-ins, cleans for the rich, and once or twice a week performs an abortion. She accepts no money; in her mind, she is simply helping out women in trouble. The film by Mike Leigh paints a strong, loving portrait of her family, which loves her but has no idea about the abortions. And it shows Vera\\'s naiveté surrounded by cynicism (a woman charges for Vera\\'s work but doesn\\'t tell Vera) and the implacable law. The character created by Staunton is powerful and unforgettable; she won as best actress at Venice, where the film won the Golden Lion. Rating: Four stars. (R, 125 minutes).',\n",
       "  '\"What the #$*! Do We Know?\" **1/2 An exceedingly odd but not boring quasi-documentary that exists at the intersection of metaphysics and quantum physics. Experts and a famous psychic try to explain the nature of reality, while Marlee Matlin plays a photographer whose own life reflect the quandaries of the universe. Oh, and there are brightly-colored animated blobs to represent various concepts, both abstract and real (or real, if the universe is real). The interviews, the Matlin material and the animation fit together so strangely the movie seems to be channel surfing. Rating: Two and a half stars.',\n",
       "  '\"When Will I Be Loved\" **** Neve Campbell plays Vera, daughter of wealth, girl friend of a persuasive street hustler named Ford (Fred Weller). Ford is trying to scam Count Tommaso (Dominic Chianese), an Italian millionaire who turns out to be interested in only one thing Ford might have to offer: His girl friend. Vera, Given this situation, improvises a startling outcome in the best film yet by James Toback, the virtuoso of verbal sexual negotiation. Rating: Four stars. (R, 81 minutes).',\n",
       "  '\"Wimbledon\" *** PG-13, 98 minutes). \"Wimbledon\" is a well-behaved movie about deserving people who have good things happen to them. Peter and Lizzie (Paul Bettany and Kirsten Dunst) are tennis pros who Meet Cute during Wimbledon, and begin a romance that brings Peter good luck but alarms Lizzie\\'s father (Sam Neill). The tennis scenes are well done, the romantic scenes are sweet, Peter\\'s parents are amusingly eccentric, and without being a great movie it\\'s kind of a nice one. Rating: Three stars. (PG-13, 98 minutes).',\n",
       "  '\"The Yes Men\" *** Political tricksters create a fake World Trade Organization web site with a fake WTO spokesman, who is invited to speak at real WTO meetings. \"Hank Hardy Unruh\" praises the export of underpaid jobs as a viable alternative to slavery and suggests recycling human waste into fast food - and, incredibly, his audiences don\\'t get the joke. He unveils a giant inflatable phallus and calls it an \"Employee Visualization Appendage,\" and his audience simply watches politely. Hilarious and depressing, a snapshot of policy-makers who have stopped listening and forgotten how to think critically. By the makers of \"American Movie.\" Rating: Three stars. (R, 80 minutes).'])"
      ]
     },
     "execution_count": 6,
     "metadata": {},
     "output_type": "execute_result"
    }
   ],
   "source": [
    "raw_reviews['/reviews/one-minute-reviews-2004']"
   ]
  },
  {
   "cell_type": "code",
   "execution_count": 10,
   "id": "11140253",
   "metadata": {},
   "outputs": [
    {
     "name": "stdout",
     "output_type": "stream",
     "text": [
      "14510 14508\n"
     ]
    }
   ],
   "source": [
    "cleaned = {k: raw_reviews[k] for k in raw_reviews if len(raw_reviews[k]) == 5}\n",
    "cleaned = {k: raw_reviews[k] for k in cleaned if k != '/reviews/one-minute-reviews-2004'}\n",
    "\n",
    "print(len(raw_reviews), len(cleaned))\n",
    "\n",
    "with open('../data/raw_filtered_reviews.pkl', 'wb') as f:\n",
    "    pickle.dump(cleaned, f, pickle.HIGHEST_PROTOCOL)"
   ]
  },
  {
   "cell_type": "code",
   "execution_count": null,
   "id": "965f2b30",
   "metadata": {},
   "outputs": [],
   "source": []
  }
 ],
 "metadata": {
  "kernelspec": {
   "display_name": "Python 3 (ipykernel)",
   "language": "python",
   "name": "python3"
  },
  "language_info": {
   "codemirror_mode": {
    "name": "ipython",
    "version": 3
   },
   "file_extension": ".py",
   "mimetype": "text/x-python",
   "name": "python",
   "nbconvert_exporter": "python",
   "pygments_lexer": "ipython3",
   "version": "3.8.3"
  }
 },
 "nbformat": 4,
 "nbformat_minor": 5
}
