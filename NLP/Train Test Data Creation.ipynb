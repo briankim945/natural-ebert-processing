{
 "cells": [
  {
   "cell_type": "code",
   "execution_count": 6,
   "id": "d0c69107",
   "metadata": {},
   "outputs": [],
   "source": [
    "import pickle\n",
    "\n",
    "from sklearn import preprocessing\n",
    "from sklearn.model_selection import train_test_split\n",
    "\n",
    "import pandas as pd"
   ]
  },
  {
   "cell_type": "code",
   "execution_count": 26,
   "id": "0bdb0926",
   "metadata": {},
   "outputs": [],
   "source": [
    "with open('../data.nosync/raw_filtered_reviews.pkl', 'rb') as f:\n",
    "    reviews = pickle.load(f)"
   ]
  },
  {
   "cell_type": "code",
   "execution_count": 28,
   "id": "2596e86e",
   "metadata": {},
   "outputs": [],
   "source": [
    "reviews = {\n",
    "    'url': [k for k, item in reviews.items()],\n",
    "    'title': [item[0] for _, item in reviews.items()],\n",
    "    'author': [item[1] for _, item in reviews.items()],\n",
    "    'date': [item[2] for _, item in reviews.items()],\n",
    "    'stars': [item[3] for _, item in reviews.items()], \n",
    "    'review': ['\\n'.join(item[4]) for _, item in reviews.items()]}"
   ]
  },
  {
   "cell_type": "code",
   "execution_count": 29,
   "id": "e8f3de1c",
   "metadata": {},
   "outputs": [],
   "source": [
    "reviews_df = pd.DataFrame(reviews)"
   ]
  },
  {
   "cell_type": "code",
   "execution_count": 30,
   "id": "62917166",
   "metadata": {},
   "outputs": [
    {
     "data": {
      "text/html": [
       "<div>\n",
       "<style scoped>\n",
       "    .dataframe tbody tr th:only-of-type {\n",
       "        vertical-align: middle;\n",
       "    }\n",
       "\n",
       "    .dataframe tbody tr th {\n",
       "        vertical-align: top;\n",
       "    }\n",
       "\n",
       "    .dataframe thead th {\n",
       "        text-align: right;\n",
       "    }\n",
       "</style>\n",
       "<table border=\"1\" class=\"dataframe\">\n",
       "  <thead>\n",
       "    <tr style=\"text-align: right;\">\n",
       "      <th></th>\n",
       "      <th>url</th>\n",
       "      <th>title</th>\n",
       "      <th>author</th>\n",
       "      <th>date</th>\n",
       "      <th>stars</th>\n",
       "      <th>review</th>\n",
       "    </tr>\n",
       "  </thead>\n",
       "  <tbody>\n",
       "    <tr>\n",
       "      <th>0</th>\n",
       "      <td>/reviews/pictures-of-ghosts-film-review-2024</td>\n",
       "      <td>Pictures of Ghosts</td>\n",
       "      <td>Glenn Kenny</td>\n",
       "      <td>January 26, 2024</td>\n",
       "      <td>3.5</td>\n",
       "      <td>The one constant of life is change, and our ow...</td>\n",
       "    </tr>\n",
       "    <tr>\n",
       "      <th>1</th>\n",
       "      <td>/reviews/t%C3%B3tem-movie-review-2024</td>\n",
       "      <td>Totem</td>\n",
       "      <td>Peyton Robinson</td>\n",
       "      <td>January 26, 2024</td>\n",
       "      <td>4.0</td>\n",
       "      <td>Whilst driving across a bridge, seven-year-old...</td>\n",
       "    </tr>\n",
       "    <tr>\n",
       "      <th>2</th>\n",
       "      <td>/reviews/under-the-fig-trees-film-review-2024</td>\n",
       "      <td>Under the Fig Trees</td>\n",
       "      <td>Carlos Aguilar</td>\n",
       "      <td>January 26, 2024</td>\n",
       "      <td>3.5</td>\n",
       "      <td>Faces and fruits flourish in the resplendent T...</td>\n",
       "    </tr>\n",
       "    <tr>\n",
       "      <th>3</th>\n",
       "      <td>/reviews/sometimes-i-think-about-dying-movie-r...</td>\n",
       "      <td>Sometimes I Think About Dying</td>\n",
       "      <td>Sheila O'Malley</td>\n",
       "      <td>January 26, 2024</td>\n",
       "      <td>2.5</td>\n",
       "      <td>Fran (Daisy Ridley) is the central character o...</td>\n",
       "    </tr>\n",
       "    <tr>\n",
       "      <th>4</th>\n",
       "      <td>/reviews/the-peasants-film-review-2024</td>\n",
       "      <td>The Peasants</td>\n",
       "      <td>Tomris Laffly</td>\n",
       "      <td>January 26, 2024</td>\n",
       "      <td>2.0</td>\n",
       "      <td>Here’s the first thing you need to know about ...</td>\n",
       "    </tr>\n",
       "  </tbody>\n",
       "</table>\n",
       "</div>"
      ],
      "text/plain": [
       "                                                 url  \\\n",
       "0       /reviews/pictures-of-ghosts-film-review-2024   \n",
       "1              /reviews/t%C3%B3tem-movie-review-2024   \n",
       "2      /reviews/under-the-fig-trees-film-review-2024   \n",
       "3  /reviews/sometimes-i-think-about-dying-movie-r...   \n",
       "4             /reviews/the-peasants-film-review-2024   \n",
       "\n",
       "                           title           author              date  stars  \\\n",
       "0             Pictures of Ghosts      Glenn Kenny  January 26, 2024    3.5   \n",
       "1                          Totem  Peyton Robinson  January 26, 2024    4.0   \n",
       "2            Under the Fig Trees   Carlos Aguilar  January 26, 2024    3.5   \n",
       "3  Sometimes I Think About Dying  Sheila O'Malley  January 26, 2024    2.5   \n",
       "4                   The Peasants    Tomris Laffly  January 26, 2024    2.0   \n",
       "\n",
       "                                              review  \n",
       "0  The one constant of life is change, and our ow...  \n",
       "1  Whilst driving across a bridge, seven-year-old...  \n",
       "2  Faces and fruits flourish in the resplendent T...  \n",
       "3  Fran (Daisy Ridley) is the central character o...  \n",
       "4  Here’s the first thing you need to know about ...  "
      ]
     },
     "execution_count": 30,
     "metadata": {},
     "output_type": "execute_result"
    }
   ],
   "source": [
    "reviews_df.head()"
   ]
  },
  {
   "cell_type": "code",
   "execution_count": 32,
   "id": "bdf0dbeb",
   "metadata": {},
   "outputs": [],
   "source": [
    "train, test = train_test_split(reviews_df, stratify=reviews_df['stars'])"
   ]
  },
  {
   "cell_type": "code",
   "execution_count": 35,
   "id": "10ba3b07",
   "metadata": {},
   "outputs": [],
   "source": [
    "with open('../data.nosync/test_train_data.pkl', 'wb') as f:\n",
    "    pickle.dump((X, y), f, pickle.HIGHEST_PROTOCOL)"
   ]
  },
  {
   "cell_type": "code",
   "execution_count": 36,
   "id": "86241e2e",
   "metadata": {},
   "outputs": [
    {
     "data": {
      "text/plain": [
       "7711"
      ]
     },
     "execution_count": 36,
     "metadata": {},
     "output_type": "execute_result"
    }
   ],
   "source": [
    "ebert_df = reviews_df[reviews_df['author'] == 'Roger Ebert']\n",
    "\n",
    "len(ebert_df)"
   ]
  },
  {
   "cell_type": "code",
   "execution_count": 38,
   "id": "7810c290",
   "metadata": {},
   "outputs": [],
   "source": [
    "train, test = train_test_split(ebert_df, stratify=ebert_df['stars'])\n",
    "\n",
    "with open('../data.nosync/ebert_test_train_data.pkl', 'wb') as f:\n",
    "    pickle.dump((train, test), f, pickle.HIGHEST_PROTOCOL)"
   ]
  },
  {
   "cell_type": "code",
   "execution_count": null,
   "id": "7ce74e36",
   "metadata": {},
   "outputs": [],
   "source": []
  }
 ],
 "metadata": {
  "kernelspec": {
   "display_name": "Python 3 (ipykernel)",
   "language": "python",
   "name": "python3"
  },
  "language_info": {
   "codemirror_mode": {
    "name": "ipython",
    "version": 3
   },
   "file_extension": ".py",
   "mimetype": "text/x-python",
   "name": "python",
   "nbconvert_exporter": "python",
   "pygments_lexer": "ipython3",
   "version": "3.8.3"
  }
 },
 "nbformat": 4,
 "nbformat_minor": 5
}
