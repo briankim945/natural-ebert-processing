{
 "cells": [
  {
   "cell_type": "code",
   "execution_count": 7,
   "id": "83d8aa42",
   "metadata": {},
   "outputs": [],
   "source": [
    "import requests\n",
    "\n",
    "import scrapy\n",
    "from bs4 import BeautifulSoup"
   ]
  },
  {
   "cell_type": "code",
   "execution_count": 2,
   "id": "d08d53c4",
   "metadata": {},
   "outputs": [],
   "source": [
    "ebert_reviews_url = \"https://www.rogerebert.com/reviews\"\n",
    "ebert_test_url = \"https://www.rogerebert.com/reviews/alive-movie-review-2020\""
   ]
  },
  {
   "cell_type": "code",
   "execution_count": 5,
   "id": "2208a001",
   "metadata": {},
   "outputs": [],
   "source": [
    "res = requests.get(ebert_test_url)\n",
    "response = scrapy.http.TextResponse(res.url, body=res.text, encoding='utf-8')"
   ]
  },
  {
   "cell_type": "code",
   "execution_count": 6,
   "id": "be84d867",
   "metadata": {},
   "outputs": [
    {
     "data": {
      "text/plain": [
       "<200 https://www.rogerebert.com/reviews/alive-movie-review-2020>"
      ]
     },
     "execution_count": 6,
     "metadata": {},
     "output_type": "execute_result"
    }
   ],
   "source": [
    "response"
   ]
  },
  {
   "cell_type": "code",
   "execution_count": 36,
   "id": "9fcbc499",
   "metadata": {},
   "outputs": [],
   "source": [
    "page = requests.get(ebert_test_url)\n",
    "soup = BeautifulSoup(page.content, \"html.parser\")\n",
    "# print(soup.prettify())"
   ]
  },
  {
   "cell_type": "code",
   "execution_count": 19,
   "id": "f485afef",
   "metadata": {},
   "outputs": [
    {
     "data": {
      "text/plain": [
       "['#Alive']"
      ]
     },
     "execution_count": 19,
     "metadata": {},
     "output_type": "execute_result"
    }
   ],
   "source": [
    "title_divs = [t.text.strip() for t in soup.find_all(class_=\"page-content--title\")]\n",
    "title_divs"
   ]
  },
  {
   "cell_type": "code",
   "execution_count": 25,
   "id": "22ee11ef",
   "metadata": {},
   "outputs": [],
   "source": [
    "def count_stars(star_div):\n",
    "    return len(star_div.find_all(class_=\"icon-star-full\")) + 0.5 * len(star_div.find_all(class_=\"icon-star-half\"))"
   ]
  },
  {
   "cell_type": "code",
   "execution_count": 26,
   "id": "6a708267",
   "metadata": {},
   "outputs": [
    {
     "data": {
      "text/plain": [
       "2.5"
      ]
     },
     "execution_count": 26,
     "metadata": {},
     "output_type": "execute_result"
    }
   ],
   "source": [
    "star_divs = soup.find_all(class_=\"page-content--star-rating\")\n",
    "star_div = star_divs[0]\n",
    "\n",
    "count_stars(star_div)"
   ]
  },
  {
   "cell_type": "code",
   "execution_count": 28,
   "id": "a32920cd",
   "metadata": {},
   "outputs": [
    {
     "data": {
      "text/plain": [
       "['Nick Allen']"
      ]
     },
     "execution_count": 28,
     "metadata": {},
     "output_type": "execute_result"
    }
   ],
   "source": [
    "author_divs = [t.text.strip() for t in soup.find_all(class_=\"byline\")]\n",
    "author_divs"
   ]
  },
  {
   "cell_type": "code",
   "execution_count": 35,
   "id": "6001fe08",
   "metadata": {},
   "outputs": [
    {
     "name": "stdout",
     "output_type": "stream",
     "text": [
      "The thrills come sporadically in Il Cho's “#Alive,” a zombie movie that would stand out so much more if it had even just a little personality, or a twist to add to the cinematic tradition of zombie apocalypses. Instead, “#Alive” merely lurches from mediocrity, and despite a relatable depiction of one man quarantining from a deadly virus, it's the blood-covered zombies who are much more fun to watch. \n",
      "Such is the case when your lead character is underwritten, even if the actor playing him is especially charismatic (Ah-In Yoo, previously of \"Burning\"). Before everything falls apart, we learn that Jun-u is a tech-savvy, PC gamer who lives with his parents in an apartment complex in Seoul. That's about it. During these moments, he’s not very interesting, or exciting to be stuck with. He's more of a stand-in for generic young folk, presumably to let them fill in the blank. Given that the movie echoes modern isolation in more ways than one, it feels like a totally missed opportunity, in which the movie's surprisingly self-serious tone is partially at fault. \n",
      "When a mysterious virus turns his fellow citizens into flesh-eating monsters, Jun-u chooses survival. From the beginning, he tells himself that he will survive, and organizes his food, insulates himself indoors, and even drinks some of dad’s fancy booze. But that towering kind of self-assurance also means he can fall just as hard. He video-logs his emotional journey as things get worse when food starts to run out, and loneliness starts to really kick in, making for some all-out emotional work from Yoo. Right before he gives up permanently, he learns of another tenant, Yu-bin (Shin-Hye Park) across the way. She too has figured out her own system of survival, and is even craftier (as with a chair with spikes that's used as a trap for her front door). But as she gets her own screen-time in \"#Alive,\" her can-do character is more of an embodied attitude than someone to deeply care for, making her part of the story as shallow as his. \n",
      "Their goal is to survive, something that's emphasized by these two strong lead performances, a very basic message, and the narrow plotting in Matt Naylor's script. “#Alive” is one of those zombie movies that simply looks at the apocalypse as a test about choosing hope—sometimes they struggle with it, especially as they often have to fight off the hordes of zombies coming their way. But true to the story's sentimentality, good news often comes with all too convenient timing. \n",
      "There’s nothing all that original about “#Alive,” which has an extremely similar premise to the superior 2018 French film “The Night Eats the World,” and yet such unoriginality is not the biggest issue. Instead, it’s more that “#Alive” hardly tries to do something new, and leaves its few surprises to a loud jump scare here, or a nifty zombie kill there. The bursts of action that some might call inspired are underwhelming, like an anticlimactic scene in which a zombie dangles on the side of a balcony, swatting at a pesky drone commandeered by Jun-u.\n",
      "“#Alive” is the middle-ground of a zombie story, in that its bleeding heart emotions are unmistakable, and the zombie stuff can be good enough, with detailed make-up work and creepy choreography creating some nightmarish extras. It's more that the film is built for low expectations, and you either accept it or else. When you're looking for something to hold onto, it’s not fun when a movie is constantly confirming to you that this is all there is. \n",
      "Now available on Netflix.\n"
     ]
    }
   ],
   "source": [
    "content_divs = []\n",
    "content_divs_tmp = soup.find_all(class_=\"page-content--block_editor-content\")\n",
    "for c in content_divs_tmp:\n",
    "    content_divs.extend(c.find_all(\"p\"))\n",
    "    \n",
    "for c in content_divs:\n",
    "    print(c.text)"
   ]
  },
  {
   "cell_type": "code",
   "execution_count": 59,
   "id": "b69f2dc5",
   "metadata": {},
   "outputs": [],
   "source": [
    "def count_stars(star_div):\n",
    "    return len(star_div.find_all(class_=\"icon-star-full\")) + 0.5 * len(star_div.find_all(class_=\"icon-star-half\"))\n",
    "\n",
    "def extract_ebert_info(url):\n",
    "    page = requests.get(url)\n",
    "    soup = BeautifulSoup(page.content, \"html.parser\")\n",
    "    \n",
    "    # Title\n",
    "    title_divs = [t.text.strip() for t in soup.find_all(class_=\"page-content--title\")]\n",
    "    assert(len(title_divs) == 1)\n",
    "    title = title_divs[0]\n",
    "    \n",
    "    # Author\n",
    "    author_divs = [t.text.strip() for t in soup.find_all(class_=\"byline\")]\n",
    "    assert(len(author_divs) == 1)\n",
    "    author = author_divs[0]\n",
    "    \n",
    "    # Stars\n",
    "    star_divs = soup.find_all(class_=\"page-content--star-rating\")\n",
    "    assert(len(star_divs) == 1)\n",
    "    star_div = star_divs[0]\n",
    "\n",
    "    star_count = count_stars(star_div)\n",
    "    \n",
    "    # Time\n",
    "    time_divs = soup.find_all(\"time\")\n",
    "    assert(len(time_divs) == 1)\n",
    "    time_div = time_divs[0]\n",
    "\n",
    "    time_info = time_div.text.strip()\n",
    "    \n",
    "    # Content\n",
    "    content_paragraphs = []\n",
    "    content_divs_tmp = soup.find_all(class_=\"page-content--block_editor-content\")\n",
    "    for c in content_divs_tmp:\n",
    "        content_paragraphs.extend([t.text.strip() for t in c.find_all([\"p\", \"li\"])])\n",
    "        \n",
    "    return title, author, time_info, star_count, content_paragraphs"
   ]
  },
  {
   "cell_type": "code",
   "execution_count": 60,
   "id": "fe6d3682",
   "metadata": {},
   "outputs": [],
   "source": [
    "title, author, time_info, start_count, content_paragraphs = extract_ebert_info(\"https://www.rogerebert.com/reviews/le-petit-soldat-1960\")"
   ]
  },
  {
   "cell_type": "code",
   "execution_count": 61,
   "id": "212e1a73",
   "metadata": {},
   "outputs": [
    {
     "data": {
      "text/plain": [
       "'January 01, 1960'"
      ]
     },
     "execution_count": 61,
     "metadata": {},
     "output_type": "execute_result"
    }
   ],
   "source": [
    "time_info"
   ]
  },
  {
   "cell_type": "code",
   "execution_count": 56,
   "id": "c88db16e",
   "metadata": {},
   "outputs": [
    {
     "name": "stdout",
     "output_type": "stream",
     "text": [
      "\"Le Petit Soldat\" was Jean-Luc Godard's second film, made in 1960 when \"Breathless\" was creating a sensation and the French New Wave made the cover of Time. It wasn't much of a success. Godard, it was said, had lost the light touch of his first film and gotten bogged down in politics. And his shooting and writing styles, alas, bordered on anarchy.\n",
      "So \"The Little Soldier\" was dismissed by the critics, who were busy doing cartwheels for Truffaut's \"Jules and Jim\" and Resnais' \"Hiroshima, Mon Amour.\" And Godard began a period of four years in which his films, one after another, were criticized for not fulfilling the promise of \"Breathless.\"\n",
      "But \"Breathless\" seems a little dated in 1969. We are no longer quite that interested in a facile, flashy editing style; Godard himself has educated us out of that infatuation. A decade later, \"Breathless\" is a period piece, the \"The Maltese Falcon\" of the 1950s. And gradually it becomes clearer that, starting with \"Le Petit Soldat,\" Godard was forging his own individualistic art and becoming the most relevant director of our time.\n",
      "Part of that relevance involves Godard's politics. Although \"Le Petit Soldat\" was attacked as \"too political,\" it is refreshingly undoctrinaire in 1969 while \"Hiroshima, Mon Amour\" collapses into what Pauline Kael calls liberal soap opera. Godard, in 1960, making a film about the Algerian War, was portraying the sort of intellectual and moral confusion that good men have when they confront senseless events. And the 1960s have been full of them.\n",
      "Godard's hero, his little soldier, is a Frenchman in exile in Switzerland. He gets mixed up with both Arab and French revolutionary groups, is caught in the middle, and tries to commit murder to avoid being sent back to France. He also undergoes torture (but not because he especially believes in any cause) and, like all Godard heroes, talks to a girl about politics and love.\n",
      "The nature of the hero's involvement reminds us of \"Pierrot le Fou\" and \"Masculine-Feminine\" (but not of \"La Chinoise\" and \"Weekend\" (1968), in which the revolutionaries are much more sure of themselves -- usually for the worse). It becomes clear during the film that nothing the hero does is going to make much difference; forces are in motion that would just as soon kill him, but for no good reason. Photographs of previous victims are casually displayed, but without much feeling. The trouble with wars like Algeria and Vietnam is that death loses its significance (except to its tragic victims).\n",
      "Given this attitude, it might seem strange that \"Le Petit Soldat\" is funny. But it is, for long stretches. And usually the laughs are grisly; we wince at the same time. Godard understands how funny the automobile is, for example. No other director gets so much humor out of the way we identify our cars with our egos (remember the opening scenes of \"Weekend\"?). He gives us a chase in which the hero, trying to kill the driver of another car, is constantly stymied by oncoming traffic. And the other car is one of those dumpy late-1950s compact Nashes, referred to by brand name. Somehow you get the feeling you've wandered into a Raymond Chandler novel.\n",
      "Godard was getting laughs from self-conscious scripts in 1960, too. At one point the narrator says: \"She lit a cigarette and asked me, why?\" And then Anna Karina lights a cigarette, exhales, looks at the camera and says: \"Pourquoi?\" This is humor that can best be understood by Bob and Ray fans -- but humor nonetheless.\n"
     ]
    }
   ],
   "source": [
    "for c in content_paragraphs:\n",
    "    print(c)"
   ]
  },
  {
   "cell_type": "code",
   "execution_count": 57,
   "id": "656e369f",
   "metadata": {},
   "outputs": [
    {
     "data": {
      "text/plain": [
       "('The Human Centipede III (Final Sequence)',\n",
       " 'Simon Abrams',\n",
       " 0.0,\n",
       " ['Note: Roger Ebert didn\\'t give \"Human Centipede (First Sequence)\" a star rating because \"The star rating system is unsuited to this film.\" Not much has changed, unfortunately.',\n",
       "  '\"Human Centipede 3\" is gross, though that\\'s not an inherently commendable or noteworthy quality given the previous two \"Human Centipede\" films. You get what you pay for with this last sequel: a cynical, and consistently unpleasant film with creators who try very, very hard to push as many of your buttons as they can. One character facetiously speaks for writer/director Tom Six when he yells \"I don\\'t want anyone leaving satisfied!\" This film wants to make you see red, and tries to achieve that effect through charmless shock tactics, including:',\n",
       "  'stock music that sounds like it was lifted from a boring porno',\n",
       "  'glaringly obvious serial abuse of green screen technology',\n",
       "  'de rigeur race-baiting, including half-hearted digs at Muslims, Jews, African-Americans, Latinos, and more',\n",
       "  'aggressive misogyny, including jokes about rape, torture, blondes, etc.',\n",
       "  'hyper-realistic sound design that over-emphasize squeaking chair leather, grinding teeth, and moist splattering',\n",
       "  'a very loud German actor screaming obscenities throughout a 100+-minute film',\n",
       "  'None of these pseudo-provocative techniques are that surprising given what transpired in the last two \"Human Centipede\" films, so it\\'s hard to be incensed by how hard Six, who appears as a fictional version of himself in the film, works to make viewers angry. \"Human Centipede 3\" is so over-eager to displease that it\\'s only ever intensely irritating.',\n",
       "  'Because \"Human Centipede 3\" seems to have been made by a desperate internet troll, the film\\'s plot doesn\\'t kick in until the movie\\'s about halfway done. In the beginning, there\\'s only a basic narrative set-up that\\'s left undeveloped for a while so as to achieve maximum annoyance. Bill (Dieter Laser, the villainous mad scientist in \"The Human Centipede (First Sequence)\") is an inefficient and insane prison warden. To save his job and the job of his anxious accountant Dwight Butler (Laurence R. Harvey, who played the pathetic fetishist from \"The Human Centipede II (Full Sequence)\") from a malicious politician (Eric Roberts?!), Bill thinks he has to find a way to save the George H.W. Bush State Penitentiary from its $50 billion deficit.',\n",
       "  \"So, being a raving psychopath, Bill tries to torture and scream and taunt everyone until his money problems and job insecurity are fixed. His secretary Daisy (Bree Olson) is the biggest target of Bill's ire, but he does everything to the inmates from manual castration to water torture. And yet somehow, Bill's bullying doesn't have the desired effect, and eventually the film's plot kicks in once Bill takes Dwight's Plan B seriously: forcibly attach the prison's inmates faces to each other's hindquarters, and feed them each others' excrement (also some intravenous vitamins).\",\n",
       "  'I\\'ve glossed over a lot of direfully offensive material because that stuff is in fact offensive. It\\'s also rather dumb, and predictable. The film often feels like a collection of gross stuff: testicle-eating, kidney-screwing, and oodles of un-PC taunting are standard. You don\\'t really get the numbing pleasure of being de-sensitized as you watch \"Human Centipede 3\" either. Six persistently leads viewers around by the nose, throwing jokes about dried human clitorises, colostomy bags, and coerced blow jobs with noxious abandon. This is a movie that seems to sometimes exist to give Laser, a champion over-acter, countless opportunities to make all the veins in his neck, forearms, and forehead bulge while yelling bad-guy-wrestler-worthy taunts, like \"Your crying only makes my dick harder.\" \"Human Centipede 3\" proves that just because it\\'s supposed to be alienating doesn\\'t make it interesting or noteworthy.',\n",
       "  'So while it seems besides the point to argue that there is some artfulness to the first two \"Human Centipede\" films that off-set their performance-art-meets-carnival-freakshow stench, the real problem with \"Human Centipede 3\" is how pointlessly excessive it is. Scenes where Guantanamo Bay, and American eagles are referenced in the name of provocation are wantonly juxtaposed with genuinely upsetting material, like a scene involving the aforementioned colostomy bag.',\n",
       "  'It would also be pointless to accuse Six of over-compensating (in every department) for the sake of taking more money from rubes, and boasting while he does it (check out his scintillating Twitter feed if you don\\'t believe that Six carries himself like the horror genre\\'s answer to Andy Kaufman). This is the first new film I\\'ve seen in a while that made me feel like it was made in the same vein as \"Blood Feast,\" an incompetent 1963 horror film that took films from the intentionally off-putting Grand Guignol theater, and sold itself to drive-in and grindhouse attendants as \"the first splatter film.\" \"Blood Feast\" director Herschell Gordon Lewis now boasts about how that terrible film (he will even tell you it\\'s lousy) made money because it was \"the first of its kind.\" \"Human Centipede 3\" is similarly a movie that\\'s advertised and constructed to put you off, only it\\'s far more slick, and infinitely more aggressive than anything Lewis \"excreted\" (his verb, not mine). If you like your sleazy exploitation films to be joyless, calculating, and obnoxious, you are the only ones who will enjoy \"Human Centipede 3.\"'])"
      ]
     },
     "execution_count": 57,
     "metadata": {},
     "output_type": "execute_result"
    }
   ],
   "source": [
    "extract_ebert_info(\"https://www.rogerebert.com/reviews/the-human-centipede-3-final-sequence-2015\")"
   ]
  },
  {
   "cell_type": "code",
   "execution_count": null,
   "id": "95ba4f18",
   "metadata": {},
   "outputs": [],
   "source": []
  }
 ],
 "metadata": {
  "kernelspec": {
   "display_name": "Python 3 (ipykernel)",
   "language": "python",
   "name": "python3"
  },
  "language_info": {
   "codemirror_mode": {
    "name": "ipython",
    "version": 3
   },
   "file_extension": ".py",
   "mimetype": "text/x-python",
   "name": "python",
   "nbconvert_exporter": "python",
   "pygments_lexer": "ipython3",
   "version": "3.8.3"
  }
 },
 "nbformat": 4,
 "nbformat_minor": 5
}
