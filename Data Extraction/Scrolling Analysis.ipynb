{
 "cells": [
  {
   "cell_type": "code",
   "execution_count": 12,
   "id": "029efe0f",
   "metadata": {},
   "outputs": [],
   "source": [
    "from selenium import webdriver\n",
    "from selenium.webdriver import Safari, Chrome, Firefox\n",
    "from selenium.webdriver.common.action_chains import ActionChains\n",
    "from selenium.webdriver.common.by import By\n",
    "from bs4 import BeautifulSoup\n",
    "\n",
    "import time"
   ]
  },
  {
   "cell_type": "code",
   "execution_count": 2,
   "id": "eaf7e8d5",
   "metadata": {},
   "outputs": [],
   "source": [
    "# https://stackoverflow.com/questions/48850974/selenium-scroll-to-end-of-page-in-dynamically-loading-webpage"
   ]
  },
  {
   "cell_type": "code",
   "execution_count": 30,
   "id": "8aa6c229",
   "metadata": {},
   "outputs": [],
   "source": [
    "def scroll_down(driver, func):\n",
    "    \"\"\"A method for scrolling the page.\"\"\"\n",
    "\n",
    "    reviews_count = len(test_count(driver.page_source))\n",
    "#     while True:\n",
    "    for i in range(4):\n",
    "\n",
    "#         review_elements = driver.find_elements(By.CLASS_NAME, \"review-stack\")\n",
    "#         print(len(review_elements))\n",
    "#         end_element = review_elements[-5]\n",
    "        end_element = driver.find_element(By.CLASS_NAME, \"js--reviews--loadMore\")\n",
    "        \n",
    "        target_y = end_element.location[\"y\"]\n",
    "        for distance in range(-10,10):\n",
    "            driver.execute_script(\"window.scrollTo(0, \"+str(target_y + distance)+\")\")\n",
    "            time.sleep(1)\n",
    "#         driver.execute_script(\"arguments[0].scrollIntoView();\", end_element)\n",
    "\n",
    "        # Wait to load the page.\n",
    "        time.sleep(10)\n",
    "        \n",
    "        new_count = len(test_count(driver.page_source))\n",
    "\n",
    "        if new_count == reviews_count:\n",
    "\n",
    "            break\n",
    "\n",
    "        reviews_count = new_count"
   ]
  },
  {
   "cell_type": "code",
   "execution_count": 9,
   "id": "49dbf99e",
   "metadata": {},
   "outputs": [],
   "source": [
    "def test_count(page_source):\n",
    "    soup = BeautifulSoup(page_source, \"html.parser\")\n",
    "    reviews_list = soup.find_all(class_=\"review-stack--poster\")\n",
    "    print(len(reviews_list))\n",
    "    return reviews_list"
   ]
  },
  {
   "cell_type": "code",
   "execution_count": 28,
   "id": "b2e467c3",
   "metadata": {},
   "outputs": [],
   "source": [
    "driver = Firefox()\n",
    "driver.get(\"https://www.rogerebert.com/reviews\")"
   ]
  },
  {
   "cell_type": "code",
   "execution_count": 31,
   "id": "cf72ab8a",
   "metadata": {},
   "outputs": [
    {
     "name": "stdout",
     "output_type": "stream",
     "text": [
      "28\n",
      "52\n",
      "76\n",
      "100\n",
      "124\n"
     ]
    }
   ],
   "source": [
    "scroll_down(driver, test_count)"
   ]
  },
  {
   "cell_type": "code",
   "execution_count": 32,
   "id": "a5313b75",
   "metadata": {},
   "outputs": [],
   "source": [
    "driver.quit()"
   ]
  },
  {
   "cell_type": "code",
   "execution_count": null,
   "id": "e81827ae",
   "metadata": {},
   "outputs": [],
   "source": []
  }
 ],
 "metadata": {
  "kernelspec": {
   "display_name": "Python 3 (ipykernel)",
   "language": "python",
   "name": "python3"
  },
  "language_info": {
   "codemirror_mode": {
    "name": "ipython",
    "version": 3
   },
   "file_extension": ".py",
   "mimetype": "text/x-python",
   "name": "python",
   "nbconvert_exporter": "python",
   "pygments_lexer": "ipython3",
   "version": "3.8.3"
  }
 },
 "nbformat": 4,
 "nbformat_minor": 5
}
