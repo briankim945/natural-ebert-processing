{
 "cells": [
  {
   "cell_type": "code",
   "execution_count": null,
   "id": "3d0ae8d4",
   "metadata": {},
   "outputs": [],
   "source": [
    "from bs4 import BeautifulSoup\n",
    "\n",
    "import requests\n",
    "\n",
    "import time\n",
    "import pickle"
   ]
  },
  {
   "cell_type": "code",
   "execution_count": null,
   "id": "f3584c68",
   "metadata": {},
   "outputs": [],
   "source": [
    "def extract_page_reviews_list(url):\n",
    "    page = requests.get(url)\n",
    "    soup = BeautifulSoup(page.content, \"html.parser\")\n",
    "    reviews_list = soup.find_all(class_=\"review-stack--poster\")\n",
    "    return reviews_list"
   ]
  },
  {
   "cell_type": "code",
   "execution_count": null,
   "id": "56102c49",
   "metadata": {},
   "outputs": [],
   "source": [
    "def get_review_urls(review_items):\n",
    "    reviews_links_list = [r['href'] for r in reviews_links_list]\n",
    "    return reviews_links_list"
   ]
  },
  {
   "cell_type": "code",
   "execution_count": null,
   "id": "319982e9",
   "metadata": {},
   "outputs": [],
   "source": [
    "def count_stars(star_div):\n",
    "    return len(star_div.find_all(class_=\"icon-star-full\")) + 0.5 * len(star_div.find_all(class_=\"icon-star-half\"))\n",
    "\n",
    "def extract_ebert_info(url):\n",
    "    try:\n",
    "        page = requests.get(url)\n",
    "        soup = BeautifulSoup(page.content, \"html.parser\")\n",
    "\n",
    "        # Title\n",
    "        title_divs = [t.text.strip() for t in soup.find_all(class_=\"page-content--title\")]\n",
    "        assert(len(title_divs) == 1)\n",
    "        title = title_divs[0]\n",
    "\n",
    "        # Author\n",
    "        author_divs = [t.text.strip() for t in soup.find_all(class_=\"byline\")]\n",
    "        assert(len(author_divs) == 1)\n",
    "        author = author_divs[0]\n",
    "\n",
    "        # Stars\n",
    "        star_divs = soup.find_all(class_=\"page-content--star-rating\")\n",
    "        assert(len(star_divs) == 1)\n",
    "        star_div = star_divs[0]\n",
    "\n",
    "        star_count = count_stars(star_div)\n",
    "\n",
    "        # Time\n",
    "        time_divs = soup.find_all(\"time\")\n",
    "        assert(len(time_divs) == 1)\n",
    "        time_div = time_divs[0]\n",
    "\n",
    "        time_info = time_div.text.strip()\n",
    "\n",
    "        # Content\n",
    "        content_paragraphs = []\n",
    "        content_divs_tmp = soup.find_all(class_=\"page-content--block_editor-content\")\n",
    "        for c in content_divs_tmp:\n",
    "            content_paragraphs.extend([t.text.strip() for t in c.find_all([\"p\", \"li\"])])\n",
    "\n",
    "        return title, author, time_info, star_count, content_paragraphs\n",
    "    except Exception as e:\n",
    "        return url, str(e)"
   ]
  },
  {
   "cell_type": "code",
   "execution_count": null,
   "id": "1105edae",
   "metadata": {},
   "outputs": [],
   "source": [
    "page_index = 1\n",
    "review_links = {}\n",
    "review_count = len(review_links)\n",
    "\n",
    "while True:\n",
    "    review_count = len(review_links)\n",
    "    url = f\"https://www.rogerebert.com/reviews/page/{page_index}\"\n",
    "    tmp_urls = get_review_urls(extract_page_reviews_list(url))\n",
    "    \n",
    "    if len(tmp_urls) < 1:\n",
    "        break\n",
    "    \n",
    "    review_links[page_index] = tmp_urls\n",
    "    \n",
    "    with open('raw_urls.pkl', 'wb') as f:\n",
    "        pickle.dump(review_links, f, pickle.HIGHEST_PROTOCOL)\n",
    "        \n",
    "    page_index += 1\n",
    "    \n",
    "    print(f\"page_index {page_index} and review_links {len(review_links.keys())}\",  end='\\r')"
   ]
  },
  {
   "cell_type": "code",
   "execution_count": 1,
   "id": "58863d9d",
   "metadata": {},
   "outputs": [
    {
     "ename": "FileNotFoundError",
     "evalue": "[Errno 2] No such file or directory: 'raw_urls.pkl'",
     "output_type": "error",
     "traceback": [
      "\u001b[0;31m---------------------------------------------------------------------------\u001b[0m",
      "\u001b[0;31mFileNotFoundError\u001b[0m                         Traceback (most recent call last)",
      "Cell \u001b[0;32mIn[1], line 1\u001b[0m\n\u001b[0;32m----> 1\u001b[0m \u001b[38;5;28;01mwith\u001b[39;00m \u001b[38;5;28;43mopen\u001b[39;49m\u001b[43m(\u001b[49m\u001b[38;5;124;43m'\u001b[39;49m\u001b[38;5;124;43mraw_urls.pkl\u001b[39;49m\u001b[38;5;124;43m'\u001b[39;49m\u001b[43m,\u001b[49m\u001b[43m \u001b[49m\u001b[38;5;124;43m'\u001b[39;49m\u001b[38;5;124;43mrb\u001b[39;49m\u001b[38;5;124;43m'\u001b[39;49m\u001b[43m)\u001b[49m \u001b[38;5;28;01mas\u001b[39;00m f:\n\u001b[1;32m      2\u001b[0m     pickle\u001b[38;5;241m.\u001b[39mload(f, review_links)\n\u001b[1;32m      4\u001b[0m \u001b[38;5;28mprint\u001b[39m(\u001b[38;5;28mlen\u001b[39m(review_links\u001b[38;5;241m.\u001b[39mkeys()))\n",
      "File \u001b[0;32m~/opt/anaconda3/lib/python3.8/site-packages/IPython/core/interactiveshell.py:284\u001b[0m, in \u001b[0;36m_modified_open\u001b[0;34m(file, *args, **kwargs)\u001b[0m\n\u001b[1;32m    277\u001b[0m \u001b[38;5;28;01mif\u001b[39;00m file \u001b[38;5;129;01min\u001b[39;00m {\u001b[38;5;241m0\u001b[39m, \u001b[38;5;241m1\u001b[39m, \u001b[38;5;241m2\u001b[39m}:\n\u001b[1;32m    278\u001b[0m     \u001b[38;5;28;01mraise\u001b[39;00m \u001b[38;5;167;01mValueError\u001b[39;00m(\n\u001b[1;32m    279\u001b[0m         \u001b[38;5;124mf\u001b[39m\u001b[38;5;124m\"\u001b[39m\u001b[38;5;124mIPython won\u001b[39m\u001b[38;5;124m'\u001b[39m\u001b[38;5;124mt let you open fd=\u001b[39m\u001b[38;5;132;01m{\u001b[39;00mfile\u001b[38;5;132;01m}\u001b[39;00m\u001b[38;5;124m by default \u001b[39m\u001b[38;5;124m\"\u001b[39m\n\u001b[1;32m    280\u001b[0m         \u001b[38;5;124m\"\u001b[39m\u001b[38;5;124mas it is likely to crash IPython. If you know what you are doing, \u001b[39m\u001b[38;5;124m\"\u001b[39m\n\u001b[1;32m    281\u001b[0m         \u001b[38;5;124m\"\u001b[39m\u001b[38;5;124myou can use builtins\u001b[39m\u001b[38;5;124m'\u001b[39m\u001b[38;5;124m open.\u001b[39m\u001b[38;5;124m\"\u001b[39m\n\u001b[1;32m    282\u001b[0m     )\n\u001b[0;32m--> 284\u001b[0m \u001b[38;5;28;01mreturn\u001b[39;00m \u001b[43mio_open\u001b[49m\u001b[43m(\u001b[49m\u001b[43mfile\u001b[49m\u001b[43m,\u001b[49m\u001b[43m \u001b[49m\u001b[38;5;241;43m*\u001b[39;49m\u001b[43margs\u001b[49m\u001b[43m,\u001b[49m\u001b[43m \u001b[49m\u001b[38;5;241;43m*\u001b[39;49m\u001b[38;5;241;43m*\u001b[39;49m\u001b[43mkwargs\u001b[49m\u001b[43m)\u001b[49m\n",
      "\u001b[0;31mFileNotFoundError\u001b[0m: [Errno 2] No such file or directory: 'raw_urls.pkl'"
     ]
    }
   ],
   "source": [
    "with open('raw_urls.pkl', 'rb') as f:\n",
    "    pickle.load(f, review_links)\n",
    "        \n",
    "print(len(review_links.keys()))\n",
    "print(set([len(review_links.items())]))"
   ]
  },
  {
   "cell_type": "code",
   "execution_count": null,
   "id": "618c5837",
   "metadata": {},
   "outputs": [],
   "source": [
    "review_data = {}\n",
    "\n",
    "for k in review_links.keys():\n",
    "    for url in review_links[k]:\n",
    "        if url not in review_data:\n",
    "            review_data[url] = extract_ebert_info(\"https://www.rogerebert.com\" + url)\n",
    "    \n",
    "    with open('raw_reviews.pkl', 'wb') as f:\n",
    "        pickle.dump(review_data, f, pickle.HIGHEST_PROTOCOL)\n",
    "        \n",
    "    print(f\"review_link {k} and current size {len(review_data.keys())}\",  end='\\r')"
   ]
  }
 ],
 "metadata": {
  "kernelspec": {
   "display_name": "Python 3 (ipykernel)",
   "language": "python",
   "name": "python3"
  },
  "language_info": {
   "codemirror_mode": {
    "name": "ipython",
    "version": 3
   },
   "file_extension": ".py",
   "mimetype": "text/x-python",
   "name": "python",
   "nbconvert_exporter": "python",
   "pygments_lexer": "ipython3",
   "version": "3.8.3"
  }
 },
 "nbformat": 4,
 "nbformat_minor": 5
}
