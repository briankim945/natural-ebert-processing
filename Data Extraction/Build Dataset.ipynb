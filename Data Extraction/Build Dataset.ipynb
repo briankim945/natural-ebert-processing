{
 "cells": [
  {
   "cell_type": "code",
   "execution_count": 1,
   "id": "ccb6d797",
   "metadata": {},
   "outputs": [],
   "source": [
    "from selenium import webdriver\n",
    "from selenium.webdriver import Safari, Chrome, Firefox\n",
    "from selenium.webdriver.common.action_chains import ActionChains\n",
    "from selenium.webdriver.common.by import By\n",
    "from bs4 import BeautifulSoup\n",
    "\n",
    "import time\n",
    "import pickle"
   ]
  },
  {
   "cell_type": "code",
   "execution_count": 2,
   "id": "7117c64f",
   "metadata": {},
   "outputs": [],
   "source": [
    "def scroll_down(driver, func):\n",
    "    \"\"\"A method for scrolling the page.\"\"\"\n",
    "\n",
    "    reviews_list = test_count(driver.page_source)\n",
    "    \n",
    "    for i in range(3):\n",
    "#     while True:\n",
    "        end_element = driver.find_element(By.CLASS_NAME, \"js--reviews--loadMore\")\n",
    "        \n",
    "        target_y = end_element.location[\"y\"]\n",
    "        for distance in range(-10,10):\n",
    "            driver.execute_script(\"window.scrollTo(0, \"+str(target_y + distance)+\")\")\n",
    "            time.sleep(1)\n",
    "\n",
    "        # Wait to load the page.\n",
    "        time.sleep(10)\n",
    "        \n",
    "        new_list = test_count(driver.page_source)\n",
    "\n",
    "        if len(new_list) == len(reviews_list):\n",
    "\n",
    "            break\n",
    "\n",
    "        reviews_list = new_list\n",
    "    \n",
    "    return reviews_list"
   ]
  },
  {
   "cell_type": "code",
   "execution_count": 3,
   "id": "7dd0289b",
   "metadata": {},
   "outputs": [],
   "source": [
    "def test_count(page_source):\n",
    "    soup = BeautifulSoup(page_source, \"html.parser\")\n",
    "    reviews_list = soup.find_all(class_=\"review-stack--poster\")\n",
    "    print(len(reviews_list))\n",
    "    return reviews_list"
   ]
  },
  {
   "cell_type": "code",
   "execution_count": 4,
   "id": "468957f7",
   "metadata": {},
   "outputs": [],
   "source": [
    "def count_stars(star_div):\n",
    "    return len(star_div.find_all(class_=\"icon-star-full\")) + 0.5 * len(star_div.find_all(class_=\"icon-star-half\"))\n",
    "\n",
    "def extract_ebert_info(url):\n",
    "    page = requests.get(url)\n",
    "    soup = BeautifulSoup(page.content, \"html.parser\")\n",
    "    \n",
    "    # Title\n",
    "    title_divs = [t.text.strip() for t in soup.find_all(class_=\"page-content--title\")]\n",
    "    assert(len(title_divs) == 1)\n",
    "    title = title_divs[0]\n",
    "    \n",
    "    # Author\n",
    "    author_divs = [t.text.strip() for t in soup.find_all(class_=\"byline\")]\n",
    "    assert(len(author_divs) == 1)\n",
    "    author = author_divs[0]\n",
    "    \n",
    "    # Stars\n",
    "    star_divs = soup.find_all(class_=\"page-content--star-rating\")\n",
    "    assert(len(star_divs) == 1)\n",
    "    star_div = star_divs[0]\n",
    "\n",
    "    star_count = count_stars(star_div)\n",
    "    \n",
    "    # Content\n",
    "    content_paragraphs = []\n",
    "    content_divs_tmp = soup.find_all(class_=\"page-content--block_editor-content\")\n",
    "    for c in content_divs_tmp:\n",
    "        content_paragraphs.extend([t.text.strip() for t in c.find_all([\"p\", \"li\"])])\n",
    "        \n",
    "    return title, author, star_count, content_paragraphs"
   ]
  },
  {
   "cell_type": "code",
   "execution_count": 5,
   "id": "acd12f6b",
   "metadata": {},
   "outputs": [
    {
     "name": "stdout",
     "output_type": "stream",
     "text": [
      "28\n",
      "52\n",
      "76\n",
      "100\n"
     ]
    }
   ],
   "source": [
    "driver = Firefox()\n",
    "driver.get(\"https://www.rogerebert.com/reviews\")\n",
    "\n",
    "reviews_links_list = scroll_down(driver, test_count)\n",
    "\n",
    "driver.quit()"
   ]
  },
  {
   "cell_type": "code",
   "execution_count": 14,
   "id": "89630974",
   "metadata": {},
   "outputs": [],
   "source": [
    "with open('raw_reviews.pkl', 'wb') as f:\n",
    "    pickle.dump(reviews_links_list, f, pickle.HIGHEST_PROTOCOL)"
   ]
  },
  {
   "cell_type": "code",
   "execution_count": 7,
   "id": "908c3d67",
   "metadata": {},
   "outputs": [],
   "source": [
    "reviews_links_list = list(set(reviews_links_list))"
   ]
  },
  {
   "cell_type": "code",
   "execution_count": 8,
   "id": "5d1606fa",
   "metadata": {},
   "outputs": [],
   "source": [
    "reviews_links_list = [r['href'] for r in reviews_links_list]"
   ]
  },
  {
   "cell_type": "code",
   "execution_count": null,
   "id": "2904c148",
   "metadata": {},
   "outputs": [],
   "source": [
    "dataset_rough = [extract_ebert_info(url) for url in reviews_links_list]"
   ]
  },
  {
   "cell_type": "code",
   "execution_count": null,
   "id": "696cd810",
   "metadata": {},
   "outputs": [],
   "source": [
    "with open('dataset_rough.pkl', 'wb') as f:\n",
    "    pickle.dump(dataset_rough, f, pickle.HIGHEST_PROTOCOL)"
   ]
  }
 ],
 "metadata": {
  "kernelspec": {
   "display_name": "Python 3 (ipykernel)",
   "language": "python",
   "name": "python3"
  },
  "language_info": {
   "codemirror_mode": {
    "name": "ipython",
    "version": 3
   },
   "file_extension": ".py",
   "mimetype": "text/x-python",
   "name": "python",
   "nbconvert_exporter": "python",
   "pygments_lexer": "ipython3",
   "version": "3.8.3"
  }
 },
 "nbformat": 4,
 "nbformat_minor": 5
}
